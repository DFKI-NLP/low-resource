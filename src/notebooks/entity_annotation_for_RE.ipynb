{
 "cells": [
  {
   "cell_type": "code",
   "execution_count": 3,
   "metadata": {},
   "outputs": [],
   "source": [
    "import sys\n",
    "sys.path.append(\"../\")\n",
    "sys.path.append(\"../../\")"
   ]
  },
  {
   "cell_type": "code",
   "execution_count": 4,
   "metadata": {},
   "outputs": [],
   "source": [
    "import spacy\n",
    "from spacy import displacy\n",
    "from spacy.pipeline import EntityRuler\n",
    "from spacy.language import Language\n",
    "from typing import List, Dict, Tuple, Optional\n",
    "\n",
    "from  src.pipeline.create_pipline_init import create_nlp_pipeline\n",
    "from  src.create_dataset import instances_from_amazon\n",
    "from collections import namedtuple\n",
    "import json\n",
    "import gzip\n",
    "\n",
    "GAZETTEERS_PATH = \"/data2/zhanghc/RE/low-resource/src/data/gazetteers/\"\n",
    "nlp = create_nlp_pipeline(gazetteers_path=GAZETTEERS_PATH)"
   ]
  },
  {
   "cell_type": "code",
   "execution_count": 5,
   "metadata": {},
   "outputs": [],
   "source": [
    "instances = instances_from_amazon(\"/data2/zhanghc/data_external/amazon_reviews/meta_Electronics.json.gz\")"
   ]
  },
  {
   "cell_type": "code",
   "execution_count": 4,
   "metadata": {},
   "outputs": [
    {
     "name": "stderr",
     "output_type": "stream",
     "text": [
      "100%|██████████| 296782/296782 [3:10:12<00:00, 26.00it/s]   \n"
     ]
    }
   ],
   "source": [
    "from allennlp.data.tokenizers.word_splitter import JustSpacesWordSplitter\n",
    "from allennlp.data.tokenizers import Tokenizer, WordTokenizer\n",
    "import re\n",
    "from tqdm import tqdm\n",
    "_tokenizer =  WordTokenizer(word_splitter=JustSpacesWordSplitter())\n",
    "\n",
    "sentences_list = []\n",
    "\n",
    "for i in tqdm(range(len(instances))):\n",
    "    text = instances[i][1]\n",
    "    doc = nlp(text)\n",
    "    sentences = list(doc.sents)\n",
    "    \n",
    "    for sent in sentences:\n",
    "        sent_str = sent.text.strip()\n",
    "        tokenized_text = _tokenizer.tokenize(sent_str)\n",
    "        text_new  = \" \".join([w.text for w in tokenized_text])\n",
    "        \n",
    "        doc_sent = nlp(text_new)\n",
    "        #displacy.render(doc_sent, style=\"ent\", jupyter=True)\n",
    "        \n",
    "        ents=[]\n",
    "        for ent in doc_sent.ents:\n",
    "            ents.append({\"text\":ent.text,\"start_char\":ent.start_char,\"end_char\":ent.end_char,\"label\":ent.label_})\n",
    "        \n",
    "        speed_unit = re.search('\\s\\d+\\.\\d+GHz\\s', text_new)\n",
    "        if speed_unit: \n",
    "            ents.append({\"text\":speed_unit.group(),\"start_char\":speed_unit.span()[0],\"end_char\":speed_unit.span()[1],\"label\":\"UNIT_SPEED\"})\n",
    "        if len(ents)> 0:\n",
    "            sentences_list.append({\"docid\":instances[i][0],\"sent\":text_new,\"ents\":ents})\n",
    " "
   ]
  },
  {
   "cell_type": "code",
   "execution_count": 6,
   "metadata": {},
   "outputs": [],
   "source": [
    "from pandas import DataFrame, read_csv\n",
    "import matplotlib.pyplot as plt\n",
    "import pandas as pd \n",
    "\n",
    "df = pd.DataFrame(sentences_list)\n",
    "df.to_csv(\"/data2/zhanghc/RE/low-resource/src/data/entity_annotation.csv\")"
   ]
  },
  {
   "cell_type": "code",
   "execution_count": null,
   "metadata": {},
   "outputs": [],
   "source": [
    "from pandas import DataFrame, read_csv\n",
    "import matplotlib.pyplot as plt\n",
    "import pandas as pd \n",
    "\n",
    "file = r'/data2/zhanghc/RE/low-resource/src/data/entity_annotation.csv'\n",
    "df_r = pd.read_csv(file)"
   ]
  },
  {
   "cell_type": "code",
   "execution_count": null,
   "metadata": {},
   "outputs": [],
   "source": [
    "pd.set_option(\"display.max_colwidth\", 0)\n",
    "\n",
    "df_r.head()"
   ]
  },
  {
   "cell_type": "code",
   "execution_count": 5,
   "metadata": {
    "scrolled": true
   },
   "outputs": [
    {
     "data": {
      "text/html": [
       "<div class=\"entities\" style=\"line-height: 2.5; direction: ltr\">Operating System include a \n",
       "<mark class=\"entity\" style=\"background: #ddd; padding: 0.45em 0.6em; margin: 0 0.25em; line-height: 1; border-radius: 0.35em; box-decoration-break: clone; -webkit-box-decoration-break: clone\">\n",
       "    1.6 GHz\n",
       "    <span style=\"font-size: 0.8em; font-weight: bold; line-height: 1; border-radius: 0.35em; text-transform: uppercase; vertical-align: middle; margin-left: 0.5rem\">UNIT_SPEED</span>\n",
       "</mark>\n",
       " Cortex A9 Dual Core \n",
       "<mark class=\"entity\" style=\"background: #ddd; padding: 0.45em 0.6em; margin: 0 0.25em; line-height: 1; border-radius: 0.35em; box-decoration-break: clone; -webkit-box-decoration-break: clone\">\n",
       "    processor\n",
       "    <span style=\"font-size: 0.8em; font-weight: bold; line-height: 1; border-radius: 0.35em; text-transform: uppercase; vertical-align: middle; margin-left: 0.5rem\">COMPONENTS</span>\n",
       "</mark>\n",
       ", \n",
       "<mark class=\"entity\" style=\"background: #ddd; padding: 0.45em 0.6em; margin: 0 0.25em; line-height: 1; border-radius: 0.35em; box-decoration-break: clone; -webkit-box-decoration-break: clone\">\n",
       "    1GB\n",
       "    <span style=\"font-size: 0.8em; font-weight: bold; line-height: 1; border-radius: 0.35em; text-transform: uppercase; vertical-align: middle; margin-left: 0.5rem\">UNIT_DATA_STORAGE</span>\n",
       "</mark>\n",
       " \n",
       "<mark class=\"entity\" style=\"background: #ddd; padding: 0.45em 0.6em; margin: 0 0.25em; line-height: 1; border-radius: 0.35em; box-decoration-break: clone; -webkit-box-decoration-break: clone\">\n",
       "    DDR3\n",
       "    <span style=\"font-size: 0.8em; font-weight: bold; line-height: 1; border-radius: 0.35em; text-transform: uppercase; vertical-align: middle; margin-left: 0.5rem\">FEATURE</span>\n",
       "</mark>\n",
       " of system \n",
       "<mark class=\"entity\" style=\"background: #ddd; padding: 0.45em 0.6em; margin: 0 0.25em; line-height: 1; border-radius: 0.35em; box-decoration-break: clone; -webkit-box-decoration-break: clone\">\n",
       "    memory\n",
       "    <span style=\"font-size: 0.8em; font-weight: bold; line-height: 1; border-radius: 0.35em; text-transform: uppercase; vertical-align: middle; margin-left: 0.5rem\">COMPONENTS</span>\n",
       "</mark>\n",
       " and \n",
       "<mark class=\"entity\" style=\"background: #ddd; padding: 0.45em 0.6em; margin: 0 0.25em; line-height: 1; border-radius: 0.35em; box-decoration-break: clone; -webkit-box-decoration-break: clone\">\n",
       "    8GB\n",
       "    <span style=\"font-size: 0.8em; font-weight: bold; line-height: 1; border-radius: 0.35em; text-transform: uppercase; vertical-align: middle; margin-left: 0.5rem\">UNIT_DATA_STORAGE</span>\n",
       "</mark>\n",
       " on-board \n",
       "<mark class=\"entity\" style=\"background: #ddd; padding: 0.45em 0.6em; margin: 0 0.25em; line-height: 1; border-radius: 0.35em; box-decoration-break: clone; -webkit-box-decoration-break: clone\">\n",
       "    storage\n",
       "    <span style=\"font-size: 0.8em; font-weight: bold; line-height: 1; border-radius: 0.35em; text-transform: uppercase; vertical-align: middle; margin-left: 0.5rem\">COMPONENTS</span>\n",
       "</mark>\n",
       " \n",
       "<mark class=\"entity\" style=\"background: #ddd; padding: 0.45em 0.6em; margin: 0 0.25em; line-height: 1; border-radius: 0.35em; box-decoration-break: clone; -webkit-box-decoration-break: clone\">\n",
       "    memory\n",
       "    <span style=\"font-size: 0.8em; font-weight: bold; line-height: 1; border-radius: 0.35em; text-transform: uppercase; vertical-align: middle; margin-left: 0.5rem\">COMPONENTS</span>\n",
       "</mark>\n",
       " and 1024 x 600 resolution.</div>"
      ],
      "text/plain": [
       "<IPython.core.display.HTML object>"
      ]
     },
     "metadata": {},
     "output_type": "display_data"
    }
   ],
   "source": [
    "texta=\"Operating System include a 1.6 GHz Cortex A9 Dual Core processor, 1GB DDR3 of system memory and 8GB on-board storage memory and 1024 x 600 resolution.\"\n",
    "doc_sent = nlp(texta)\n",
    "displacy.render(doc_sent, style=\"ent\", jupyter=True)"
   ]
  }
 ],
 "metadata": {
  "kernelspec": {
   "display_name": "Python 3",
   "language": "python",
   "name": "python3"
  },
  "language_info": {
   "codemirror_mode": {
    "name": "ipython",
    "version": 3
   },
   "file_extension": ".py",
   "mimetype": "text/x-python",
   "name": "python",
   "nbconvert_exporter": "python",
   "pygments_lexer": "ipython3",
   "version": "3.6.7"
  }
 },
 "nbformat": 4,
 "nbformat_minor": 2
}
