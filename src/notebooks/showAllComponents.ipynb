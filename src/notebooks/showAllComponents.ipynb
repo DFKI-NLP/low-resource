{
 "cells": [
  {
   "cell_type": "code",
   "execution_count": 8,
   "metadata": {},
   "outputs": [],
   "source": [
    "import json\n",
    "def bubbleSort(arr):\n",
    "    n = len(arr)\n",
    "\n",
    "    # 遍历所有数组元素\n",
    "    for i in range(n):\n",
    "\n",
    "        # Last i elements are already in place\n",
    "        for j in range(0, n - i - 1):\n",
    "            if arr[j][1] > arr[j + 1][1]:\n",
    "                arr[j], arr[j + 1] = arr[j + 1], arr[j]"
   ]
  },
  {
   "cell_type": "code",
   "execution_count": 9,
   "metadata": {},
   "outputs": [],
   "source": [
    "def test_train_dev(path):\n",
    "    lines = []\n",
    "    dict_data = {}\n",
    "    doc_data=[]\n",
    "    with open(path) as f:\n",
    "        lines = f.readlines()\n",
    "    for line in lines:\n",
    "        json_data = json.loads(line)\n",
    "        tokens = json_data['token']\n",
    "        ners = json_data['ner']\n",
    "  \n",
    "        seq_len = len(tokens)\n",
    "        for i in range(len(tokens)):\n",
    "            tag = ners[i]\n",
    "            if tag == \"B-COMPONENTS\":\n",
    "                j = i + 1\n",
    "                while j < seq_len:\n",
    "                    if ners[j] != 'I-COMPONENTS':\n",
    "                        break\n",
    "                    j += 1\n",
    "                component = \" \".join(tokens[i:j]).lower()\n",
    "                if component in dict_data:\n",
    "                    dict_data[component] += 1\n",
    "                else:\n",
    "                    dict_data[component] = 1\n",
    "    return dict_data"
   ]
  },
  {
   "cell_type": "code",
   "execution_count": 10,
   "metadata": {},
   "outputs": [],
   "source": [
    "#dict_data = split_train_dev(path=\"/data2/zhanghc/RE/low-resource/src/data/amazon_distant_bio.jsonl\")\n",
    "dict_data_train = test_train_dev(path=\"/data2/zhanghc/RE/low-resource/src/data/distantly_labeled/train_appear.jsonl\")\n",
    "dict_data_dev = test_train_dev(path=\"/data2/zhanghc/RE/low-resource/src/data/distantly_labeled/dev_appear.jsonl\")"
   ]
  },
  {
   "cell_type": "code",
   "execution_count": 21,
   "metadata": {},
   "outputs": [
    {
     "name": "stdout",
     "output_type": "stream",
     "text": [
      "120\n",
      "270\n"
     ]
    }
   ],
   "source": [
    "dic_dev_num = {}\n",
    "dic_dev_not_appear = {}\n",
    "for key,values in dict_data_dev.items():\n",
    "    if key in dict_data_train:\n",
    "        # we count how much times the words appear in the training dataset\n",
    "        num = dict_data_train[key]\n",
    "        dic_dev_num[key] = num\n",
    "    else:\n",
    "        dic_dev_not_appear[key] = dict_data_dev[key]\n",
    "\n",
    "print(len(dic_dev_num))\n",
    "print(len(dic_dev_not_appear))\n",
    "        "
   ]
  },
  {
   "cell_type": "code",
   "execution_count": 26,
   "metadata": {},
   "outputs": [
    {
     "name": "stdout",
     "output_type": "stream",
     "text": [
      "120\n",
      "270\n"
     ]
    }
   ],
   "source": [
    "name_dev_list_appear=[(key,values) for key,values in dic_dev_num.items()]\n",
    "name_dev_list_notShow=[(key,values) for key,values in dic_dev_not_appear.items()]\n",
    "\n",
    "\n",
    "bubbleSort(name_dev_list_appear)\n",
    "bubbleSort(name_dev_list_notShow)\n",
    "\n",
    "print(len(name_dev_list_appear))\n",
    "print(len(name_dev_list_notShow))"
   ]
  },
  {
   "cell_type": "code",
   "execution_count": 27,
   "metadata": {},
   "outputs": [
    {
     "name": "stdout",
     "output_type": "stream",
     "text": [
      "[('multimedia processor', 1), ('mobile intel pentium 4 processor', 1), ('multimedia keyboards', 1), ('desktop battery', 1), ('bluetooth laptop', 1), ('laptop keyboards', 1), ('display multimedia', 1), ('screen desktop', 1), ('bluetooth bluetooth', 1), ('wireless lan bluetooth', 1), ('display display', 1), ('hard drive dvd', 1), ('bluetooth touchpad', 1), ('pentium m processor', 2), ('processor cache', 2), ('bluetooth keyboards', 2), ('laptop touchpad', 2), ('processor amd', 2), ('bluetooth microphone', 2), ('battery ac adapter', 2), ('screen touchpad', 2), ('battery battery', 2), ('processor laptop', 2), ('mice mouse', 2), ('bluetooth laptop mouse', 2), ('laptop processor', 2), ('laptop amd', 2), ('ieee 1394 port', 3), ('multimedia laptop', 3), ('screen screen', 3), ('bluetooth headphone', 3), ('multimedia display', 3), ('speaker microphone', 4), ('compactflash card reader', 4), ('desktop keyboards', 4), ('desktop multimedia', 4), ('desktop stereo speakers', 4), ('desktop hard disk', 4), ('laptop dvd', 4), ('multimedia desktop', 5), ('touchpad mouse', 5), ('bluetooth printer', 5), ('laptop display', 5), ('amd amd', 5), ('laptop hard disk', 5), ('screen dvd', 6), ('multimedia card reader', 6), ('screen multimedia', 6), ('desktop display', 6), ('desktop mouse', 10), ('bluetooth speakers', 10), ('cd discs', 11), ('intel pentium m processor', 11), ('laptop speakers', 11), ('cache hard drive', 11), ('cd drive', 12), ('pentium m', 12), ('amd desktop', 12), ('laptop mouse', 13), ('camcorder battery', 13), ('ac adapter battery', 18), ('desktop screen', 19), ('intel pentium m', 21), ('amd processor', 21), ('ethernet interface', 22), ('desktop hard drive', 27), ('desktop microphone', 27), ('ac adapter laptop', 30), ('desktop speaker', 32), ('bluetooth mouse', 36), ('main board', 39), ('screen laptop', 43), ('laptop hard drive', 51), ('desktop speakers', 73), ('desktop processor', 77), ('bluetooth speaker', 80), ('ddr sdram', 99), ('multimedia speaker', 124), ('multimedia speakers', 127), ('keyboards', 188), ('dvd drive', 193), ('screen display', 244), ('pci slot', 251), ('card slots', 251), ('compactflash', 295), ('stereo speakers', 297), ('display screen', 329), ('card reader', 330), ('wireless lan', 331), ('mice', 348), ('camcorders', 349), ('camcorder', 416), ('sound card', 418), ('laptop ac adapter', 423), ('touchpad', 619), ('cds', 807), ('printers', 834), ('cache', 1049), ('hard disk', 1227), ('laptop screen', 1372), ('modem', 1379), ('printer', 1467), ('microphone', 2094), ('multimedia', 2306), ('bluetooth', 2349), ('headphone', 2408), ('processor', 3667), ('amd', 4286), ('speakers', 4965), ('hard drive', 5044), ('speaker', 5123), ('mouse', 5355), ('desktop', 5370), ('dvd', 6202), ('laptop battery', 8808), ('ac adapter', 11019), ('display', 11709), ('battery', 35799), ('screen', 64737), ('laptop', 74308)]\n"
     ]
    }
   ],
   "source": [
    "print(name_dev_list_appear)"
   ]
  },
  {
   "cell_type": "code",
   "execution_count": 28,
   "metadata": {},
   "outputs": [
    {
     "name": "stdout",
     "output_type": "stream",
     "text": [
      "[('keyboard multimedia keyboard', 1), ('bluetooth printers', 1), ('usb desktop usb microphone', 1), ('keyboard mouse speakers microphone', 1), ('mice usb', 1), ('compactflash bluetooth', 1), ('keyboard mouse microphone', 1), ('laptop mouse usb', 1), ('mouse printer', 1), ('desktop memory card reader', 1), ('stereo speakers headphone', 1), ('mice keyboards memory', 1), ('display multimedia card reader', 1), ('mice keyboards', 1), ('ram amd', 1), ('processor intel pentium m', 1), ('cache cache', 1), ('multimedia mouse', 1), ('wireless lan modem', 1), ('laptop usb mouse', 1), ('compactflash compactflash', 1), ('hard drive desktop', 1), ('usb desktop hard disk', 1), ('modem laptop', 1), ('usb desktop hard drive', 1), ('multimedia touchpad keyboard', 1), ('memory desktop', 1), ('bluetooth processor', 1), ('sound card microphone', 1), ('dvd hard disk', 1), ('hard drive camcorders', 1), ('hard drive processor', 1), ('card slots display', 1), ('keyboard keyboards', 1), ('ram display', 1), ('touchpad bluetooth', 1), ('cache usb', 1), ('laptop hard drive usb', 1), ('hard drive processor cache', 1), ('microphone battery', 1), ('microphone amd', 1), ('display processor', 1), ('laptop sound card', 1), ('display sound card', 1), ('memory amd', 1), ('usb multimedia keyboard usb', 1), ('desktop keyboard keyboard', 1), ('touchpad usb', 1), ('multimedia bluetooth keyboard', 1), ('multimedia usb keyboard mouse', 1), ('desktop laptop usb', 1), ('speaker display', 1), ('microphone stereo speakers', 1), ('usb mouse usb keyboard', 1), ('usb camcorder', 1), ('bluetooth mouse usb', 1), ('keyboard laptop keyboard', 1), ('hard drive dvd drive', 1), ('keyboard bluetooth keyboard', 1), ('ram laptop', 1), ('microphone speakers', 1), ('memory camcorder', 1), ('desktop memory ram', 1), ('keyboard speaker', 1), ('display laptop', 1), ('wireless lan display', 1), ('usb screen', 1), ('touchpad touchpad', 1), ('touchpad mouse bluetooth keyboard', 1), ('touchpad mouse keyboard', 1), ('hard disk display', 1), ('microphone memory card reader', 1), ('headphone usb', 1), ('bluetooth keyboard mouse', 1), ('bluetooth stereo speakers', 1), ('hard drive multimedia', 1), ('speakers keyboard', 1), ('mouse bluetooth mouse speaker', 1), ('bluetooth wireless lan', 1), ('pci slot microphone', 1), ('screen intel pentium m', 1), ('bluetooth touchpad keyboard', 1), ('headphone microphone', 1), ('card reader bluetooth', 1), ('hard drive amd', 1), ('battery amd', 1), ('hard disk usb', 1), ('desktop processor amd', 1), ('dvd laptop dvd', 2), ('compactflash usb', 2), ('usb headphone', 2), ('ddr sdram cache memory', 2), ('ddr sdram desktop memory', 2), ('ram usb', 2), ('dvd usb', 2), ('memory processor', 2), ('ram battery', 2), ('desktop usb microphone', 2), ('laptop mice', 2), ('mice memory', 2), ('mice keyboard memory', 2), ('desktop hard drive usb', 2), ('camcorder usb', 2), ('display usb', 2), ('hard drive memory', 2), ('desktop desktop', 2), ('dvd screen', 2), ('printers bluetooth', 2), ('memory hard drive', 2), ('laptop desktop', 2), ('camcorder memory', 2), ('ram cache', 2), ('keyboard laptop', 2), ('printers ram memory', 2), ('bluetooth multimedia keyboard', 2), ('usb laptop speaker', 2), ('bluetooth keyboard bluetooth mouse keyboard', 2), ('sound card keyboard', 2), ('keyboard screen', 2), ('memory dvd', 2), ('sound card dvd', 2), ('bluetooth multimedia speaker', 2), ('printer memory', 2), ('laptop ram', 2), ('touchpad processor', 2), ('screen usb', 2), ('usb desktop speakers', 2), ('ram bluetooth', 2), ('printer keyboard', 2), ('mouse keyboard touchpad', 2), ('bluetooth desktop keyboard', 2), ('battery keyboard', 2), ('compactflash memory card reader', 3), ('compactflash card slots', 3), ('bluetooth usb printer', 3), ('usb dvd drive', 3), ('keyboard display', 3), ('usb desktop microphone', 3), ('desktop laptop', 3), ('printer usb', 3), ('speaker keyboard', 3), ('screen battery', 3), ('hard drive hard drive', 3), ('multimedia usb keyboard', 3), ('usb desktop keyboard', 3), ('display cache memory', 3), ('multimedia bluetooth', 3), ('display amd', 3), ('laptop memory ram', 3), ('touchpad bluetooth keyboard', 3), ('ram ram', 4), ('laptop desktop usb', 4), ('battery memory', 4), ('multimedia usb', 4), ('bluetooth modem', 4), ('laptop ram memory', 4), ('keyboard multimedia', 4), ('memory card reader usb', 4), ('multimedia desktop keyboard', 4), ('modem bluetooth', 4), ('memory display', 4), ('desktop ram', 4), ('headphone bluetooth', 4), ('dvd dvd', 5), ('memory mouse', 5), ('usb multimedia', 5), ('processor processor', 5), ('speakers usb', 5), ('display cache memory amd', 5), ('usb stereo speakers', 5), ('battery usb', 5), ('ram cache memory', 5), ('multimedia memory', 6), ('usb multimedia speaker', 6), ('keyboard keyboard', 6), ('hard disk memory', 6), ('speaker usb', 6), ('cache processor', 6), ('bluetooth mice', 6), ('desktop multimedia keyboard', 6), ('processor memory', 7), ('battery desktop', 8), ('card reader usb', 8), ('microphone usb', 8), ('usb multimedia speakers', 8), ('laptop laptop', 8), ('usb laptop mouse', 8), ('usb keyboard usb mouse', 9), ('memory usb', 9), ('multimedia memory card reader', 9), ('card reader card reader', 9), ('keyboard bluetooth', 9), ('keyboard touchpad', 9), ('modem usb', 10), ('memory cache', 10), ('ram dvd', 10), ('multimedia hard drive', 10), ('usb laptop speakers', 10), ('mouse touchpad', 10), ('bluetooth desktop', 11), ('mouse mice', 11), ('display keyboard', 11), ('microphone multimedia card reader', 11), ('mobile intel pentium 4', 12), ('laptop speaker', 12), ('mouse battery', 14), ('usb multimedia keyboard', 16), ('usb mouse mice', 18), ('dvd ram', 22), ('usb battery', 22), ('battery laptop battery', 22), ('usb wireless lan', 23), ('usb dvd', 24), ('keyboard usb', 24), ('usb ac adapter', 25), ('usb hard disk', 27), ('keyboard mouse', 29), ('mouse usb', 29), ('mouse keyboard', 32), ('usb keyboards', 33), ('hard drive usb', 33), ('touchpad keyboard', 35), ('usb usb', 35), ('desktop usb', 41), ('usb microphone', 42), ('keyboard battery', 42), ('laptop usb', 44), ('usb sound card', 44), ('usb display', 45), ('usb mice', 45), ('memory card slots', 47), ('wireless lan usb', 51), ('usb desktop', 54), ('amd memory', 60), ('usb laptop', 61), ('desktop keyboard', 62), ('usb printers', 62), ('mouse memory', 62), ('usb speaker', 76), ('screen keyboard', 80), ('usb speakers', 80), ('memory memory', 81), ('usb memory', 86), ('bluetooth usb', 88), ('keyboards desktop', 95), ('cache memory', 117), ('usb bluetooth', 119), ('usb memory card reader', 126), ('usb hard drive', 128), ('usb card reader', 146), ('usb modem', 154), ('ddr sdram memory', 179), ('usb printer', 200), ('compactflash memory', 224), ('laptop memory', 235), ('multimedia keyboard', 294), ('basicshard drive', 341), ('usb mouse', 392), ('laptop keyboard', 426), ('ram memory', 427), ('desktop memory', 491), ('lan network port', 504), ('usb keyboard', 772), ('memory ram', 784), ('memory card reader', 1684), ('bluetooth keyboard', 3242), ('ram', 13317), ('keyboard', 35033), ('memory', 70513), ('usb', 108522)]\n"
     ]
    }
   ],
   "source": [
    "print(name_dev_list_notShow)"
   ]
  },
  {
   "cell_type": "code",
   "execution_count": null,
   "metadata": {},
   "outputs": [],
   "source": [
    "\n",
    "#tags_set = {key for (key,values) in name_list[-30:]}\n",
    "#print(name_list[-30:])"
   ]
  }
 ],
 "metadata": {
  "kernelspec": {
   "display_name": "Python 3",
   "language": "python",
   "name": "python3"
  },
  "language_info": {
   "codemirror_mode": {
    "name": "ipython",
    "version": 3
   },
   "file_extension": ".py",
   "mimetype": "text/x-python",
   "name": "python",
   "nbconvert_exporter": "python",
   "pygments_lexer": "ipython3",
   "version": "3.6.7"
  }
 },
 "nbformat": 4,
 "nbformat_minor": 2
}
